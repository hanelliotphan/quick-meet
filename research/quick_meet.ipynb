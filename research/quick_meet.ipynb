{
  "nbformat": 4,
  "nbformat_minor": 0,
  "metadata": {
    "colab": {
      "provenance": [],
      "gpuType": "T4"
    },
    "kernelspec": {
      "name": "python3",
      "display_name": "Python 3"
    },
    "language_info": {
      "name": "python"
    },
    "accelerator": "GPU",
    "widgets": {
      "application/vnd.jupyter.widget-state+json": {
        "58372b077fdf4d0f84f49982d6a4681e": {
          "model_module": "@jupyter-widgets/controls",
          "model_name": "HBoxModel",
          "model_module_version": "1.5.0",
          "state": {
            "_dom_classes": [],
            "_model_module": "@jupyter-widgets/controls",
            "_model_module_version": "1.5.0",
            "_model_name": "HBoxModel",
            "_view_count": null,
            "_view_module": "@jupyter-widgets/controls",
            "_view_module_version": "1.5.0",
            "_view_name": "HBoxView",
            "box_style": "",
            "children": [
              "IPY_MODEL_04b44530f5544570964541808a6eda99",
              "IPY_MODEL_f9c28ea4fdac46aa9bcfdc4d684f374c",
              "IPY_MODEL_bbf118c853bd4b72b6549b9a16790cf8"
            ],
            "layout": "IPY_MODEL_9029bb84e7f944ee9f0200de307aa6a4"
          }
        },
        "04b44530f5544570964541808a6eda99": {
          "model_module": "@jupyter-widgets/controls",
          "model_name": "HTMLModel",
          "model_module_version": "1.5.0",
          "state": {
            "_dom_classes": [],
            "_model_module": "@jupyter-widgets/controls",
            "_model_module_version": "1.5.0",
            "_model_name": "HTMLModel",
            "_view_count": null,
            "_view_module": "@jupyter-widgets/controls",
            "_view_module_version": "1.5.0",
            "_view_name": "HTMLView",
            "description": "",
            "description_tooltip": null,
            "layout": "IPY_MODEL_8beef2525ac84e6e8135b16c5f5ea41e",
            "placeholder": "​",
            "style": "IPY_MODEL_f9ecfa6620464ccfb07c66b179785a05",
            "value": "Loading checkpoint shards: 100%"
          }
        },
        "f9c28ea4fdac46aa9bcfdc4d684f374c": {
          "model_module": "@jupyter-widgets/controls",
          "model_name": "FloatProgressModel",
          "model_module_version": "1.5.0",
          "state": {
            "_dom_classes": [],
            "_model_module": "@jupyter-widgets/controls",
            "_model_module_version": "1.5.0",
            "_model_name": "FloatProgressModel",
            "_view_count": null,
            "_view_module": "@jupyter-widgets/controls",
            "_view_module_version": "1.5.0",
            "_view_name": "ProgressView",
            "bar_style": "success",
            "description": "",
            "description_tooltip": null,
            "layout": "IPY_MODEL_70ff03f0f54c46c9aafead2e4dfe06aa",
            "max": 4,
            "min": 0,
            "orientation": "horizontal",
            "style": "IPY_MODEL_2df17077d3e7459ba9eded0b4d19aa74",
            "value": 4
          }
        },
        "bbf118c853bd4b72b6549b9a16790cf8": {
          "model_module": "@jupyter-widgets/controls",
          "model_name": "HTMLModel",
          "model_module_version": "1.5.0",
          "state": {
            "_dom_classes": [],
            "_model_module": "@jupyter-widgets/controls",
            "_model_module_version": "1.5.0",
            "_model_name": "HTMLModel",
            "_view_count": null,
            "_view_module": "@jupyter-widgets/controls",
            "_view_module_version": "1.5.0",
            "_view_name": "HTMLView",
            "description": "",
            "description_tooltip": null,
            "layout": "IPY_MODEL_0c355c467f1e4a44809cb8ecdecc1591",
            "placeholder": "​",
            "style": "IPY_MODEL_7e9a05c6d9f740a2b089626051a83ec2",
            "value": " 4/4 [01:17&lt;00:00, 16.71s/it]"
          }
        },
        "9029bb84e7f944ee9f0200de307aa6a4": {
          "model_module": "@jupyter-widgets/base",
          "model_name": "LayoutModel",
          "model_module_version": "1.2.0",
          "state": {
            "_model_module": "@jupyter-widgets/base",
            "_model_module_version": "1.2.0",
            "_model_name": "LayoutModel",
            "_view_count": null,
            "_view_module": "@jupyter-widgets/base",
            "_view_module_version": "1.2.0",
            "_view_name": "LayoutView",
            "align_content": null,
            "align_items": null,
            "align_self": null,
            "border": null,
            "bottom": null,
            "display": null,
            "flex": null,
            "flex_flow": null,
            "grid_area": null,
            "grid_auto_columns": null,
            "grid_auto_flow": null,
            "grid_auto_rows": null,
            "grid_column": null,
            "grid_gap": null,
            "grid_row": null,
            "grid_template_areas": null,
            "grid_template_columns": null,
            "grid_template_rows": null,
            "height": null,
            "justify_content": null,
            "justify_items": null,
            "left": null,
            "margin": null,
            "max_height": null,
            "max_width": null,
            "min_height": null,
            "min_width": null,
            "object_fit": null,
            "object_position": null,
            "order": null,
            "overflow": null,
            "overflow_x": null,
            "overflow_y": null,
            "padding": null,
            "right": null,
            "top": null,
            "visibility": null,
            "width": null
          }
        },
        "8beef2525ac84e6e8135b16c5f5ea41e": {
          "model_module": "@jupyter-widgets/base",
          "model_name": "LayoutModel",
          "model_module_version": "1.2.0",
          "state": {
            "_model_module": "@jupyter-widgets/base",
            "_model_module_version": "1.2.0",
            "_model_name": "LayoutModel",
            "_view_count": null,
            "_view_module": "@jupyter-widgets/base",
            "_view_module_version": "1.2.0",
            "_view_name": "LayoutView",
            "align_content": null,
            "align_items": null,
            "align_self": null,
            "border": null,
            "bottom": null,
            "display": null,
            "flex": null,
            "flex_flow": null,
            "grid_area": null,
            "grid_auto_columns": null,
            "grid_auto_flow": null,
            "grid_auto_rows": null,
            "grid_column": null,
            "grid_gap": null,
            "grid_row": null,
            "grid_template_areas": null,
            "grid_template_columns": null,
            "grid_template_rows": null,
            "height": null,
            "justify_content": null,
            "justify_items": null,
            "left": null,
            "margin": null,
            "max_height": null,
            "max_width": null,
            "min_height": null,
            "min_width": null,
            "object_fit": null,
            "object_position": null,
            "order": null,
            "overflow": null,
            "overflow_x": null,
            "overflow_y": null,
            "padding": null,
            "right": null,
            "top": null,
            "visibility": null,
            "width": null
          }
        },
        "f9ecfa6620464ccfb07c66b179785a05": {
          "model_module": "@jupyter-widgets/controls",
          "model_name": "DescriptionStyleModel",
          "model_module_version": "1.5.0",
          "state": {
            "_model_module": "@jupyter-widgets/controls",
            "_model_module_version": "1.5.0",
            "_model_name": "DescriptionStyleModel",
            "_view_count": null,
            "_view_module": "@jupyter-widgets/base",
            "_view_module_version": "1.2.0",
            "_view_name": "StyleView",
            "description_width": ""
          }
        },
        "70ff03f0f54c46c9aafead2e4dfe06aa": {
          "model_module": "@jupyter-widgets/base",
          "model_name": "LayoutModel",
          "model_module_version": "1.2.0",
          "state": {
            "_model_module": "@jupyter-widgets/base",
            "_model_module_version": "1.2.0",
            "_model_name": "LayoutModel",
            "_view_count": null,
            "_view_module": "@jupyter-widgets/base",
            "_view_module_version": "1.2.0",
            "_view_name": "LayoutView",
            "align_content": null,
            "align_items": null,
            "align_self": null,
            "border": null,
            "bottom": null,
            "display": null,
            "flex": null,
            "flex_flow": null,
            "grid_area": null,
            "grid_auto_columns": null,
            "grid_auto_flow": null,
            "grid_auto_rows": null,
            "grid_column": null,
            "grid_gap": null,
            "grid_row": null,
            "grid_template_areas": null,
            "grid_template_columns": null,
            "grid_template_rows": null,
            "height": null,
            "justify_content": null,
            "justify_items": null,
            "left": null,
            "margin": null,
            "max_height": null,
            "max_width": null,
            "min_height": null,
            "min_width": null,
            "object_fit": null,
            "object_position": null,
            "order": null,
            "overflow": null,
            "overflow_x": null,
            "overflow_y": null,
            "padding": null,
            "right": null,
            "top": null,
            "visibility": null,
            "width": null
          }
        },
        "2df17077d3e7459ba9eded0b4d19aa74": {
          "model_module": "@jupyter-widgets/controls",
          "model_name": "ProgressStyleModel",
          "model_module_version": "1.5.0",
          "state": {
            "_model_module": "@jupyter-widgets/controls",
            "_model_module_version": "1.5.0",
            "_model_name": "ProgressStyleModel",
            "_view_count": null,
            "_view_module": "@jupyter-widgets/base",
            "_view_module_version": "1.2.0",
            "_view_name": "StyleView",
            "bar_color": null,
            "description_width": ""
          }
        },
        "0c355c467f1e4a44809cb8ecdecc1591": {
          "model_module": "@jupyter-widgets/base",
          "model_name": "LayoutModel",
          "model_module_version": "1.2.0",
          "state": {
            "_model_module": "@jupyter-widgets/base",
            "_model_module_version": "1.2.0",
            "_model_name": "LayoutModel",
            "_view_count": null,
            "_view_module": "@jupyter-widgets/base",
            "_view_module_version": "1.2.0",
            "_view_name": "LayoutView",
            "align_content": null,
            "align_items": null,
            "align_self": null,
            "border": null,
            "bottom": null,
            "display": null,
            "flex": null,
            "flex_flow": null,
            "grid_area": null,
            "grid_auto_columns": null,
            "grid_auto_flow": null,
            "grid_auto_rows": null,
            "grid_column": null,
            "grid_gap": null,
            "grid_row": null,
            "grid_template_areas": null,
            "grid_template_columns": null,
            "grid_template_rows": null,
            "height": null,
            "justify_content": null,
            "justify_items": null,
            "left": null,
            "margin": null,
            "max_height": null,
            "max_width": null,
            "min_height": null,
            "min_width": null,
            "object_fit": null,
            "object_position": null,
            "order": null,
            "overflow": null,
            "overflow_x": null,
            "overflow_y": null,
            "padding": null,
            "right": null,
            "top": null,
            "visibility": null,
            "width": null
          }
        },
        "7e9a05c6d9f740a2b089626051a83ec2": {
          "model_module": "@jupyter-widgets/controls",
          "model_name": "DescriptionStyleModel",
          "model_module_version": "1.5.0",
          "state": {
            "_model_module": "@jupyter-widgets/controls",
            "_model_module_version": "1.5.0",
            "_model_name": "DescriptionStyleModel",
            "_view_count": null,
            "_view_module": "@jupyter-widgets/base",
            "_view_module_version": "1.2.0",
            "_view_name": "StyleView",
            "description_width": ""
          }
        }
      }
    }
  },
  "cells": [
    {
      "cell_type": "markdown",
      "source": [
        "# QuickMeet - Create List of Action Items from Meeting Transcriptions\n",
        "\n",
        "```bash\n",
        "Author: Han-Elliot Phan\n",
        "Email: hanelliotphan@gmail.com\n",
        "\n",
        "Last Update: February 11, 2025\n",
        "```\n",
        "\n",
        "## Brief Discussion\n",
        "This project is to create list of action items based on the meeting transcriptions using Python and Llama-3 model. This notebook is used solely for research purpose. The source code of the project can be found [here](https://github.com/hanelliotphan/quick-meet).\n",
        "\n",
        "## Architecture\n",
        "This project uses the OpenAI's Whisper-1 model for audio-to-text transcription, and Meta's LLama-3 model for quantization for the process of generating list of action items.\n",
        "\n",
        "For more information about the model, please read the following documentation\n",
        "- [OpenAI's Whisper-1](https://platform.openai.com/docs/guides/speech-to-text)\n",
        "- [Meta's Llama-3](https://huggingface.co/meta-llama/Llama-3.1-8B-Instruct)\n",
        "\n",
        "## Dedication\n",
        "I dedicate this hard-work commitment to myself, my mother, my best friend Ha-Phuong and those that have imprinted in my heart. I hope that I have made you all truly proud of me."
      ],
      "metadata": {
        "id": "IOw1NOMm3pem"
      }
    },
    {
      "cell_type": "markdown",
      "source": [
        "--------------------------------------------------------------------------------"
      ],
      "metadata": {
        "id": "AcuOABcH5LgJ"
      }
    },
    {
      "cell_type": "code",
      "source": [
        "!nvidia-smi"
      ],
      "metadata": {
        "colab": {
          "base_uri": "https://localhost:8080/"
        },
        "id": "OZgtX46eoVcA",
        "outputId": "8c4700e9-b837-45fa-fb06-9c058126d1e2"
      },
      "execution_count": 1,
      "outputs": [
        {
          "output_type": "stream",
          "name": "stdout",
          "text": [
            "Wed Feb 12 01:29:16 2025       \n",
            "+-----------------------------------------------------------------------------------------+\n",
            "| NVIDIA-SMI 550.54.15              Driver Version: 550.54.15      CUDA Version: 12.4     |\n",
            "|-----------------------------------------+------------------------+----------------------+\n",
            "| GPU  Name                 Persistence-M | Bus-Id          Disp.A | Volatile Uncorr. ECC |\n",
            "| Fan  Temp   Perf          Pwr:Usage/Cap |           Memory-Usage | GPU-Util  Compute M. |\n",
            "|                                         |                        |               MIG M. |\n",
            "|=========================================+========================+======================|\n",
            "|   0  Tesla T4                       Off |   00000000:00:04.0 Off |                    0 |\n",
            "| N/A   72C    P8             11W /   70W |       0MiB /  15360MiB |      0%      Default |\n",
            "|                                         |                        |                  N/A |\n",
            "+-----------------------------------------+------------------------+----------------------+\n",
            "                                                                                         \n",
            "+-----------------------------------------------------------------------------------------+\n",
            "| Processes:                                                                              |\n",
            "|  GPU   GI   CI        PID   Type   Process name                              GPU Memory |\n",
            "|        ID   ID                                                               Usage      |\n",
            "|=========================================================================================|\n",
            "|  No running processes found                                                             |\n",
            "+-----------------------------------------------------------------------------------------+\n"
          ]
        }
      ]
    },
    {
      "cell_type": "code",
      "source": [
        "!pip install -q -U requests torch torchvision bitsandbytes transformers accelerate sentencepiece datasets soundfile"
      ],
      "metadata": {
        "collapsed": true,
        "id": "OcOE_sQdmied"
      },
      "execution_count": 2,
      "outputs": []
    },
    {
      "cell_type": "code",
      "source": [
        "# Import libraries\n",
        "\n",
        "import os\n",
        "import requests\n",
        "import torch\n",
        "\n",
        "from IPython.display import display, Markdown, update_display\n",
        "from openai import OpenAI\n",
        "from google.colab import drive, userdata\n",
        "from huggingface_hub import login\n",
        "from transformers import AutoTokenizer, AutoModelForCausalLM, TextStreamer, BitsAndBytesConfig"
      ],
      "metadata": {
        "id": "Rtna0TBFGCAL"
      },
      "execution_count": 3,
      "outputs": []
    },
    {
      "cell_type": "code",
      "source": [
        "# Set up model constants\n",
        "\n",
        "AUDIO_MODEL = \"whisper-1\"\n",
        "LLAMA3 = \"meta-llama/Meta-Llama-3.1-8B-Instruct\""
      ],
      "metadata": {
        "id": "w-abQZnZSBh6"
      },
      "execution_count": 4,
      "outputs": []
    },
    {
      "cell_type": "code",
      "source": [
        "# Fetch audio transcription\n",
        "# Source: https://www.rmofspringfield.ca/p/meeting-audio-files\n",
        "\n",
        "drive.mount(\"/content/drive\")\n",
        "meeting_audio_filepath = \"/content/drive/MyDrive/ai-projects/quick-meet/meeting-audios/meeting-audio.mp4\""
      ],
      "metadata": {
        "colab": {
          "base_uri": "https://localhost:8080/"
        },
        "id": "Yq1xSd-9Y3Vs",
        "outputId": "8db22873-0b06-4afc-90ee-a904bb23c6f2"
      },
      "execution_count": 5,
      "outputs": [
        {
          "output_type": "stream",
          "name": "stdout",
          "text": [
            "Drive already mounted at /content/drive; to attempt to forcibly remount, call drive.mount(\"/content/drive\", force_remount=True).\n"
          ]
        }
      ]
    },
    {
      "cell_type": "code",
      "source": [
        "# Sign in to HuggingFace\n",
        "\n",
        "hf_token = userdata.get(\"HF_TOKEN\")\n",
        "login(token=hf_token)"
      ],
      "metadata": {
        "id": "RO2juhjXbGdR"
      },
      "execution_count": 6,
      "outputs": []
    },
    {
      "cell_type": "code",
      "source": [
        "# Sign in to OpenAI\n",
        "\n",
        "openai_api_key = userdata.get(\"OPENAI_API_KEY\")\n",
        "openai = OpenAI(api_key=openai_api_key)"
      ],
      "metadata": {
        "id": "ORotbYnZbVES"
      },
      "execution_count": 7,
      "outputs": []
    },
    {
      "cell_type": "code",
      "source": [
        "# Convert audio to text using OpenAI Whisper-1 model\n",
        "\n",
        "meeting_audio = open(meeting_audio_filepath, \"rb\")\n",
        "transcript = openai.audio.transcriptions.create(model=AUDIO_MODEL, file=meeting_audio, response_format=\"text\")\n",
        "print(transcript)"
      ],
      "metadata": {
        "colab": {
          "base_uri": "https://localhost:8080/"
        },
        "id": "CA6Kmm_ccl6m",
        "outputId": "71505b3c-12c4-4035-afb7-1fb6071d752e"
      },
      "execution_count": 8,
      "outputs": [
        {
          "output_type": "stream",
          "name": "stdout",
          "text": [
            "The planning meeting provides the opportunity for the command and general staff, as well as agency officials and other key personnel, to hear the complete plan for the next operational period as proposed by the Operations Section Chief. By the time the meeting occurs, the IMT should have vetted the information so there would be few, if any changes needed during the meeting, and no one is surprised by the proposed plan. The goal of the planning meeting is really to get the final buy-off from the incident management team members and some of the stakeholders, and that's really what it's all about, is getting that final support, that final buy-off, where people can walk away and say, this is implementable, it is supportable, and it's going to do the trick. I'd like to welcome everybody to the planning meeting for tonight's operational plan. If I could have everybody kind of check their cell phones, pagers, radios, and if you could kind of keep your side conversations to yourself, certainly appreciate it. With that, let's get going, and we'll start with an update on the current situation with our Operations Section Chief, Rich. Thank you, Joe. The incident we're working on started early this morning when a tractor-trailer on Highway 265 was making the transition onto Highway 71. In the process of coming off the transition road, it went off the road, overturned, and spilled its load of diazonon. The trailer was loaded with 15 300-gallon totes of diazonon, which spilled. We also have a spill of about 200 gallons of diesel fuel from the truck. The spill, the chemicals started down through this drainage here, went through a culvert underneath the freeway, and continued on. It currently has contaminated a couple of the water ponds along the drainage there, pond number two, and we're checking into contamination right now in pond number three. Driver had moderate injuries, was transported to one of the local hospitals. For scene control right now, we have six roadblocks set up on 265 and 71. Our biggest concern right now is that the chemicals will continue downstream here in this drainage and have an impact on two domestic water systems downstream. We have advised those water companies that the potential is there, and they're prepared to shut down those intakes. Thank you. Okay, we do have the incident objectives posted right here. They are the ones that were developed during the unified command meeting. Just confirming that they are still valid. Still valid. Yes. Yep, still valid. All right, sounds great. Let's get started about what's going to happen tonight. I've got the weather. Looks like this is going to be the calm before the storm essentially starting tonight. Coming from the southwest, we've got a fairly good storm coming in, so it'll be increasing clouds, possibility of one to two inches of rain, 68 degrees tonight. Winds are going to be out of the southwest, about five to 15. Looking towards the morning and throughout the day, eventually it'll be a high of 86. Winds again are going to be pretty much the same as far as the five to 15 from the southwest. So with that, to set up the operational plan, I'll have Rich come up and talk about what he's going to do tomorrow. Rich. Thanks again, Jeff. All right, we're going to continue with the organization as it's presently set up. We have two geographic divisions. We have Division A, Division B, and then we have three functional groups that we're going to operate through this operational period. In Division A, we're going to improve the dikes around the spill area. The Operations Section Chief will go over tactics, work assignments, and resources for each branch, division, and group on the ICS 215 wall chart. Any questions about the night operational plan? Thank you. All right. Thanks a lot, Rich. Next with a safety analysis, John, our safety officer. I've done an incident safety analysis based on the tactics as presented by the Operations Section Chief. I've discussed our mitigation measures with him, and we think we have a good opportunity to pursue this plan. Our primary concern is that we are dealing with a moderately toxic organophosphate pesticide, biazanone. It is also a combustible liquid, so we need to make sure that everybody's in proper PPE for the activities that are being accomplished. In the event that we do have fire in the product, we need to make sure we use as little water as possible in suppression because the runoff is a greater concern than is the smoke. We're also going to have an issue with fatigue and dehydration with our folks working in PPE, so we need to make sure that those folks are properly hydrated. I've ordered three additional safety officers, assistant safety officers, one for Division Alpha, one for the decon group, and one for the treatment group. Any questions on the safety plan? Thank you. All right. Thanks, John. Next, let's do some information sharing. Looks like logistics. Dale? Thanks, Jeff. I have a few things I need to cover. Food and drinks are on order along with tents for the Responder Rehab Area. We'll get that set up as soon as possible when it comes in. So far, the Emergency Operations Center has been able to fill orders when placed. All fresh resources will be here for the operations briefing, and we're setting up a briefing area north side of the Incident Command Post in the A Building Conference Room. Does anybody have any questions for logistics? Next, Jim. Liaison? I've attempted to contact every agency that's on the scene. If you're aware of any new agencies that are here, please let me know so I can find out if they're going to have a representative on site. Thank you. Thanks, Jim. Next, information. Carol? The local MEC has decided to set up a joint information center, and they're almost set up and ready to go. There's a lot of media interest, so please be patient. We will be presenting the first press release to the IC for approval, and I will have a message written up to put in the IAP also. Thank you. All right. Thanks, Carol. How about Bill? Finance? I don't have anything new, but we'll have a time unit leader and a cost unit leader here shortly so we can start tracking the expenditures. I do see that we do have an agency rep from the Department of Transportation, so Steve. Thank you. We do have a number of traffic control safety devices in route and in staging. When we're advised that you want to open the interstate, we'll be able to partially deploy those for opening the road. Excellent. Thank you. Okay. We've heard the plan and shared our information, so can we as a team support the plan looking at logistics? Support plan. Liaison? Information? Yes. Finance? Bill? Yes. Okay. And, of course, we need to have safety buyoff? Support the plan. Excellent. Okay. It looks like that's a wrap then. I also see that we do have our agency administrators here, and I'd certainly like to give them an opportunity to say something if they have. So let's start with Lucia. Thanks, Jeff. I just wanted to add that the County Emergency Operations Center director has briefed the State Department of Emergency Management, so they're aware of our situation. Thank you. I appreciate that. Joel? No comments. Okay. Thank you. Okay. Looking for concurrence from our Unified Command. Start with Ben. Yes. From the EPA's perspective, everything's looking pretty good. Our agency does have a representative en route to serve as a group supervisor, and they will be here in time for the ops briefing. Thanks, Ben. John? Yeah. I agree. I think we're right on track. As far as the state DEQ, very pleased with all the efforts for our actions so far. All right. Thank you very much. Okay. From the Jefferson County standpoint, I certainly concur with the plan. It appears to be a good, solid plan that everybody supports, so I want to thank everybody for pulling this thing together in a short period of time. We're going to be in pretty good shape for this upcoming operational period. The only other thing I would add is that I'll continue to be the Unified Incident Command spokesperson for the rest of this upcoming operational period, and then we'll hand that over to one of the other ICs tomorrow. That's all I've got. I'm going to go ahead and get ready for the briefing. All right. Thanks, Joe. Okay. I need the IAP components in to me by 1530 this afternoon to get ready for the 1800 operational briefing for tonight, and evidently, logistics is building that north of our command post, so you'll be reporting out there to do the operational briefing. We also have a 2000 planning meeting that will be back here to work on tomorrow's day operations. With that, please go ahead and turn your cell phones and pagers back on and get those IAP parts in to help me out. Thank you.\n",
            "\n"
          ]
        }
      ]
    },
    {
      "cell_type": "code",
      "source": [
        "# Prompt to perform to-do generation\n",
        "\n",
        "system_msg = \"I am an assistant that takes in an audio transcript and then provides summary, key discussion points, takeaways and list of action items\"\n",
        "user_prompt = \"Here is a meeting audio transcript. Please provide the location, date and summary of the meeting with attendees, and list of action items accoridingly: \", transcript\n",
        "\n",
        "messages = [\n",
        "    {\"role\": \"system\", \"content\": system_msg},\n",
        "    {\"role\": \"user\", \"content\": user_prompt}\n",
        "]"
      ],
      "metadata": {
        "id": "kzlroL6fi39Q"
      },
      "execution_count": 9,
      "outputs": []
    },
    {
      "cell_type": "code",
      "source": [
        "# Configure quantization\n",
        "\n",
        "quant_config = BitsAndBytesConfig(\n",
        "    load_in_4bit=True,\n",
        "    bnb_4bit_use_double_quant=True,\n",
        "    bnb_4bit_quant_type=\"nf4\",\n",
        "    bnb_4bit_compute_dtype=torch.bfloat16\n",
        ")"
      ],
      "metadata": {
        "id": "gkZ5uj-GmX_s"
      },
      "execution_count": 10,
      "outputs": []
    },
    {
      "cell_type": "code",
      "source": [
        "# Set up Llama-3 tokenizer\n",
        "\n",
        "llama3_tokenizer = AutoTokenizer.from_pretrained(LLAMA3)\n",
        "llama3_tokenizer.pad_token = llama3_tokenizer.eos_token\n",
        "inputs = llama3_tokenizer.apply_chat_template(messages, return_tensors=\"pt\").to(\"cuda\")\n",
        "streamer = TextStreamer(llama3_tokenizer)\n",
        "model = AutoModelForCausalLM.from_pretrained(\n",
        "    LLAMA3,\n",
        "    device_map=\"auto\",\n",
        "    trust_remote_code=True,\n",
        "    quantization_config=quant_config\n",
        ")\n",
        "outputs = model.generate(inputs, streamer=streamer, max_new_tokens=2000)"
      ],
      "metadata": {
        "colab": {
          "base_uri": "https://localhost:8080/",
          "height": 1000,
          "referenced_widgets": [
            "58372b077fdf4d0f84f49982d6a4681e",
            "04b44530f5544570964541808a6eda99",
            "f9c28ea4fdac46aa9bcfdc4d684f374c",
            "bbf118c853bd4b72b6549b9a16790cf8",
            "9029bb84e7f944ee9f0200de307aa6a4",
            "8beef2525ac84e6e8135b16c5f5ea41e",
            "f9ecfa6620464ccfb07c66b179785a05",
            "70ff03f0f54c46c9aafead2e4dfe06aa",
            "2df17077d3e7459ba9eded0b4d19aa74",
            "0c355c467f1e4a44809cb8ecdecc1591",
            "7e9a05c6d9f740a2b089626051a83ec2"
          ]
        },
        "id": "__BD1ZQYnzTM",
        "outputId": "e6beafd5-a281-47b1-e640-09b684284ee2"
      },
      "execution_count": 11,
      "outputs": [
        {
          "output_type": "display_data",
          "data": {
            "text/plain": [
              "Loading checkpoint shards:   0%|          | 0/4 [00:00<?, ?it/s]"
            ],
            "application/vnd.jupyter.widget-view+json": {
              "version_major": 2,
              "version_minor": 0,
              "model_id": "58372b077fdf4d0f84f49982d6a4681e"
            }
          },
          "metadata": {}
        },
        {
          "output_type": "stream",
          "name": "stderr",
          "text": [
            "The attention mask and the pad token id were not set. As a consequence, you may observe unexpected behavior. Please pass your input's `attention_mask` to obtain reliable results.\n",
            "Setting `pad_token_id` to `eos_token_id`:128001 for open-end generation.\n",
            "The attention mask is not set and cannot be inferred from input because pad token is same as eos token. As a consequence, you may observe unexpected behavior. Please pass your input's `attention_mask` to obtain reliable results.\n"
          ]
        },
        {
          "output_type": "stream",
          "name": "stdout",
          "text": [
            "<|begin_of_text|><|start_header_id|>system<|end_header_id|>\n",
            "\n",
            "Cutting Knowledge Date: December 2023\n",
            "Today Date: 26 Jul 2024\n",
            "\n",
            "I am an assistant that takes in an audio transcript and then provides summary, key discussion points, takeaways and list of action items<|eot_id|><|start_header_id|>user<|end_header_id|>\n",
            "\n",
            "('Here is a meeting audio transcript. Please provide the location, date and summary of the meeting with attendees, and list of action items accoridingly: ', \"The planning meeting provides the opportunity for the command and general staff, as well as agency officials and other key personnel, to hear the complete plan for the next operational period as proposed by the Operations Section Chief. By the time the meeting occurs, the IMT should have vetted the information so there would be few, if any changes needed during the meeting, and no one is surprised by the proposed plan. The goal of the planning meeting is really to get the final buy-off from the incident management team members and some of the stakeholders, and that's really what it's all about, is getting that final support, that final buy-off, where people can walk away and say, this is implementable, it is supportable, and it's going to do the trick. I'd like to welcome everybody to the planning meeting for tonight's operational plan. If I could have everybody kind of check their cell phones, pagers, radios, and if you could kind of keep your side conversations to yourself, certainly appreciate it. With that, let's get going, and we'll start with an update on the current situation with our Operations Section Chief, Rich. Thank you, Joe. The incident we're working on started early this morning when a tractor-trailer on Highway 265 was making the transition onto Highway 71. In the process of coming off the transition road, it went off the road, overturned, and spilled its load of diazonon. The trailer was loaded with 15 300-gallon totes of diazonon, which spilled. We also have a spill of about 200 gallons of diesel fuel from the truck. The spill, the chemicals started down through this drainage here, went through a culvert underneath the freeway, and continued on. It currently has contaminated a couple of the water ponds along the drainage there, pond number two, and we're checking into contamination right now in pond number three. Driver had moderate injuries, was transported to one of the local hospitals. For scene control right now, we have six roadblocks set up on 265 and 71. Our biggest concern right now is that the chemicals will continue downstream here in this drainage and have an impact on two domestic water systems downstream. We have advised those water companies that the potential is there, and they're prepared to shut down those intakes. Thank you. Okay, we do have the incident objectives posted right here. They are the ones that were developed during the unified command meeting. Just confirming that they are still valid. Still valid. Yes. Yep, still valid. All right, sounds great. Let's get started about what's going to happen tonight. I've got the weather. Looks like this is going to be the calm before the storm essentially starting tonight. Coming from the southwest, we've got a fairly good storm coming in, so it'll be increasing clouds, possibility of one to two inches of rain, 68 degrees tonight. Winds are going to be out of the southwest, about five to 15. Looking towards the morning and throughout the day, eventually it'll be a high of 86. Winds again are going to be pretty much the same as far as the five to 15 from the southwest. So with that, to set up the operational plan, I'll have Rich come up and talk about what he's going to do tomorrow. Rich. Thanks again, Jeff. All right, we're going to continue with the organization as it's presently set up. We have two geographic divisions. We have Division A, Division B, and then we have three functional groups that we're going to operate through this operational period. In Division A, we're going to improve the dikes around the spill area. The Operations Section Chief will go over tactics, work assignments, and resources for each branch, division, and group on the ICS 215 wall chart. Any questions about the night operational plan? Thank you. All right. Thanks a lot, Rich. Next with a safety analysis, John, our safety officer. I've done an incident safety analysis based on the tactics as presented by the Operations Section Chief. I've discussed our mitigation measures with him, and we think we have a good opportunity to pursue this plan. Our primary concern is that we are dealing with a moderately toxic organophosphate pesticide, biazanone. It is also a combustible liquid, so we need to make sure that everybody's in proper PPE for the activities that are being accomplished. In the event that we do have fire in the product, we need to make sure we use as little water as possible in suppression because the runoff is a greater concern than is the smoke. We're also going to have an issue with fatigue and dehydration with our folks working in PPE, so we need to make sure that those folks are properly hydrated. I've ordered three additional safety officers, assistant safety officers, one for Division Alpha, one for the decon group, and one for the treatment group. Any questions on the safety plan? Thank you. All right. Thanks, John. Next, let's do some information sharing. Looks like logistics. Dale? Thanks, Jeff. I have a few things I need to cover. Food and drinks are on order along with tents for the Responder Rehab Area. We'll get that set up as soon as possible when it comes in. So far, the Emergency Operations Center has been able to fill orders when placed. All fresh resources will be here for the operations briefing, and we're setting up a briefing area north side of the Incident Command Post in the A Building Conference Room. Does anybody have any questions for logistics? Next, Jim. Liaison? I've attempted to contact every agency that's on the scene. If you're aware of any new agencies that are here, please let me know so I can find out if they're going to have a representative on site. Thank you. Thanks, Jim. Next, information. Carol? The local MEC has decided to set up a joint information center, and they're almost set up and ready to go. There's a lot of media interest, so please be patient. We will be presenting the first press release to the IC for approval, and I will have a message written up to put in the IAP also. Thank you. All right. Thanks, Carol. How about Bill? Finance? I don't have anything new, but we'll have a time unit leader and a cost unit leader here shortly so we can start tracking the expenditures. I do see that we do have an agency rep from the Department of Transportation, so Steve. Thank you. We do have a number of traffic control safety devices in route and in staging. When we're advised that you want to open the interstate, we'll be able to partially deploy those for opening the road. Excellent. Thank you. Okay. We've heard the plan and shared our information, so can we as a team support the plan looking at logistics? Support plan. Liaison? Information? Yes. Finance? Bill? Yes. Okay. And, of course, we need to have safety buyoff? Support the plan. Excellent. Okay. It looks like that's a wrap then. I also see that we do have our agency administrators here, and I'd certainly like to give them an opportunity to say something if they have. So let's start with Lucia. Thanks, Jeff. I just wanted to add that the County Emergency Operations Center director has briefed the State Department of Emergency Management, so they're aware of our situation. Thank you. I appreciate that. Joel? No comments. Okay. Thank you. Okay. Looking for concurrence from our Unified Command. Start with Ben. Yes. From the EPA's perspective, everything's looking pretty good. Our agency does have a representative en route to serve as a group supervisor, and they will be here in time for the ops briefing. Thanks, Ben. John? Yeah. I agree. I think we're right on track. As far as the state DEQ, very pleased with all the efforts for our actions so far. All right. Thank you very much. Okay. From the Jefferson County standpoint, I certainly concur with the plan. It appears to be a good, solid plan that everybody supports, so I want to thank everybody for pulling this thing together in a short period of time. We're going to be in pretty good shape for this upcoming operational period. The only other thing I would add is that I'll continue to be the Unified Incident Command spokesperson for the rest of this upcoming operational period, and then we'll hand that over to one of the other ICs tomorrow. That's all I've got. I'm going to go ahead and get ready for the briefing. All right. Thanks, Joe. Okay. I need the IAP components in to me by 1530 this afternoon to get ready for the 1800 operational briefing for tonight, and evidently, logistics is building that north of our command post, so you'll be reporting out there to do the operational briefing. We also have a 2000 planning meeting that will be back here to work on tomorrow's day operations. With that, please go ahead and turn your cell phones and pagers back on and get those IAP parts in to help me out. Thank you.\\n\")<|eot_id|><|start_header_id|>assistant<|end_header_id|>\n",
            "\n",
            "**Meeting Details:**\n",
            "\n",
            "- **Location:** Incident Command Post, A Building Conference Room\n",
            "- **Date:** Not specified in the transcript\n",
            "- **Time:** Not specified in the transcript, but mentioned as \"tonight\" and \"tomorrow\"\n",
            "- **Attendees:** \n",
            "  1. Jeff ( Incident Commander)\n",
            "  2. Rich (Operations Section Chief)\n",
            "  3. John (Safety Officer)\n",
            "  4. Dale (Logistics)\n",
            "  5. Jim (Liaison)\n",
            "  6. Carol (Information)\n",
            "  7. Bill (Finance)\n",
            "  8. Steve (Department of Transportation)\n",
            "  9. Lucia (Agency Administrator)\n",
            "  10. Joel (Agency Administrator)\n",
            "  11. Ben (EPA Representative)\n",
            "  12. John (State DEQ Representative)\n",
            "  13. Joe (Unified Incident Command Spokesperson)\n",
            "\n",
            "**Summary of the Meeting:**\n",
            "\n",
            "The meeting is a planning meeting for the operational period ahead, focusing on the response to a tractor-trailer accident that has spilled diazonon and diesel fuel. The Operations Section Chief, Rich, presents the plan for the night operational period, which includes improving dikes around the spill area, conducting a safety analysis, and setting up a responder rehab area. The team discusses logistics, liaison, information, and finance, and receives updates from various agencies. The meeting concludes with a final buy-off from the incident management team members and stakeholders, confirming the support for the operational plan.\n",
            "\n",
            "**Key Discussion Points:**\n",
            "\n",
            "1. The incident objectives were confirmed as still valid.\n",
            "2. The Operations Section Chief presented the plan for the night operational period.\n",
            "3. The safety analysis highlighted the need for proper PPE, mitigation measures, and concern about fatigue and dehydration.\n",
            "4. Logistics discussed food, drinks, and tents for the Responder Rehab Area.\n",
            "5. Liaison and Information updates were provided.\n",
            "6. Finance discussed tracking expenditures and traffic control safety devices.\n",
            "7. The team supported the plan with a safety buy-off.\n",
            "\n",
            "**Takeaways:**\n",
            "\n",
            "1. The incident response plan is in place, with a focus on improving dikes around the spill area.\n",
            "2. Safety concerns were addressed, including proper PPE and mitigation measures.\n",
            "3. Logistics and information updates were provided.\n",
            "4. The team supported the plan with a safety buy-off.\n",
            "5. The Unified Incident Command Spokesperson will continue to represent the team for the rest of the operational period.\n",
            "\n",
            "**List of Action Items:**\n",
            "\n",
            "1. IAP components should be submitted to the Incident Commander by 1530 this afternoon.\n",
            "2. Logistics should build a briefing area north of the command post.\n",
            "3. The operational briefing for tonight should be held at 1800.\n",
            "4. A 2000 planning meeting will be held to work on tomorrow's day operations.\n",
            "5. Agency administrators should be notified of the plan and its details.\n",
            "6. The Incident Commander should receive updates on the IAP components and logistics.\n",
            "7. The team should be prepared for the operational briefing and the 2000 planning meeting.<|eot_id|>\n"
          ]
        }
      ]
    },
    {
      "cell_type": "code",
      "source": [
        "# Display Markdow version of the final script\n",
        "\n",
        "final_script = llama3_tokenizer.decode(outputs[0], skip_special_tokens=True)\n",
        "display(Markdown(final_script))"
      ],
      "metadata": {
        "colab": {
          "base_uri": "https://localhost:8080/",
          "height": 1000
        },
        "id": "jc2QZj5Qv1b8",
        "outputId": "ae8efc44-f91c-42f3-af7f-ac617ef7f154"
      },
      "execution_count": 12,
      "outputs": [
        {
          "output_type": "display_data",
          "data": {
            "text/plain": [
              "<IPython.core.display.Markdown object>"
            ],
            "text/markdown": "system\n\nCutting Knowledge Date: December 2023\nToday Date: 26 Jul 2024\n\nI am an assistant that takes in an audio transcript and then provides summary, key discussion points, takeaways and list of action itemsuser\n\n('Here is a meeting audio transcript. Please provide the location, date and summary of the meeting with attendees, and list of action items accoridingly: ', \"The planning meeting provides the opportunity for the command and general staff, as well as agency officials and other key personnel, to hear the complete plan for the next operational period as proposed by the Operations Section Chief. By the time the meeting occurs, the IMT should have vetted the information so there would be few, if any changes needed during the meeting, and no one is surprised by the proposed plan. The goal of the planning meeting is really to get the final buy-off from the incident management team members and some of the stakeholders, and that's really what it's all about, is getting that final support, that final buy-off, where people can walk away and say, this is implementable, it is supportable, and it's going to do the trick. I'd like to welcome everybody to the planning meeting for tonight's operational plan. If I could have everybody kind of check their cell phones, pagers, radios, and if you could kind of keep your side conversations to yourself, certainly appreciate it. With that, let's get going, and we'll start with an update on the current situation with our Operations Section Chief, Rich. Thank you, Joe. The incident we're working on started early this morning when a tractor-trailer on Highway 265 was making the transition onto Highway 71. In the process of coming off the transition road, it went off the road, overturned, and spilled its load of diazonon. The trailer was loaded with 15 300-gallon totes of diazonon, which spilled. We also have a spill of about 200 gallons of diesel fuel from the truck. The spill, the chemicals started down through this drainage here, went through a culvert underneath the freeway, and continued on. It currently has contaminated a couple of the water ponds along the drainage there, pond number two, and we're checking into contamination right now in pond number three. Driver had moderate injuries, was transported to one of the local hospitals. For scene control right now, we have six roadblocks set up on 265 and 71. Our biggest concern right now is that the chemicals will continue downstream here in this drainage and have an impact on two domestic water systems downstream. We have advised those water companies that the potential is there, and they're prepared to shut down those intakes. Thank you. Okay, we do have the incident objectives posted right here. They are the ones that were developed during the unified command meeting. Just confirming that they are still valid. Still valid. Yes. Yep, still valid. All right, sounds great. Let's get started about what's going to happen tonight. I've got the weather. Looks like this is going to be the calm before the storm essentially starting tonight. Coming from the southwest, we've got a fairly good storm coming in, so it'll be increasing clouds, possibility of one to two inches of rain, 68 degrees tonight. Winds are going to be out of the southwest, about five to 15. Looking towards the morning and throughout the day, eventually it'll be a high of 86. Winds again are going to be pretty much the same as far as the five to 15 from the southwest. So with that, to set up the operational plan, I'll have Rich come up and talk about what he's going to do tomorrow. Rich. Thanks again, Jeff. All right, we're going to continue with the organization as it's presently set up. We have two geographic divisions. We have Division A, Division B, and then we have three functional groups that we're going to operate through this operational period. In Division A, we're going to improve the dikes around the spill area. The Operations Section Chief will go over tactics, work assignments, and resources for each branch, division, and group on the ICS 215 wall chart. Any questions about the night operational plan? Thank you. All right. Thanks a lot, Rich. Next with a safety analysis, John, our safety officer. I've done an incident safety analysis based on the tactics as presented by the Operations Section Chief. I've discussed our mitigation measures with him, and we think we have a good opportunity to pursue this plan. Our primary concern is that we are dealing with a moderately toxic organophosphate pesticide, biazanone. It is also a combustible liquid, so we need to make sure that everybody's in proper PPE for the activities that are being accomplished. In the event that we do have fire in the product, we need to make sure we use as little water as possible in suppression because the runoff is a greater concern than is the smoke. We're also going to have an issue with fatigue and dehydration with our folks working in PPE, so we need to make sure that those folks are properly hydrated. I've ordered three additional safety officers, assistant safety officers, one for Division Alpha, one for the decon group, and one for the treatment group. Any questions on the safety plan? Thank you. All right. Thanks, John. Next, let's do some information sharing. Looks like logistics. Dale? Thanks, Jeff. I have a few things I need to cover. Food and drinks are on order along with tents for the Responder Rehab Area. We'll get that set up as soon as possible when it comes in. So far, the Emergency Operations Center has been able to fill orders when placed. All fresh resources will be here for the operations briefing, and we're setting up a briefing area north side of the Incident Command Post in the A Building Conference Room. Does anybody have any questions for logistics? Next, Jim. Liaison? I've attempted to contact every agency that's on the scene. If you're aware of any new agencies that are here, please let me know so I can find out if they're going to have a representative on site. Thank you. Thanks, Jim. Next, information. Carol? The local MEC has decided to set up a joint information center, and they're almost set up and ready to go. There's a lot of media interest, so please be patient. We will be presenting the first press release to the IC for approval, and I will have a message written up to put in the IAP also. Thank you. All right. Thanks, Carol. How about Bill? Finance? I don't have anything new, but we'll have a time unit leader and a cost unit leader here shortly so we can start tracking the expenditures. I do see that we do have an agency rep from the Department of Transportation, so Steve. Thank you. We do have a number of traffic control safety devices in route and in staging. When we're advised that you want to open the interstate, we'll be able to partially deploy those for opening the road. Excellent. Thank you. Okay. We've heard the plan and shared our information, so can we as a team support the plan looking at logistics? Support plan. Liaison? Information? Yes. Finance? Bill? Yes. Okay. And, of course, we need to have safety buyoff? Support the plan. Excellent. Okay. It looks like that's a wrap then. I also see that we do have our agency administrators here, and I'd certainly like to give them an opportunity to say something if they have. So let's start with Lucia. Thanks, Jeff. I just wanted to add that the County Emergency Operations Center director has briefed the State Department of Emergency Management, so they're aware of our situation. Thank you. I appreciate that. Joel? No comments. Okay. Thank you. Okay. Looking for concurrence from our Unified Command. Start with Ben. Yes. From the EPA's perspective, everything's looking pretty good. Our agency does have a representative en route to serve as a group supervisor, and they will be here in time for the ops briefing. Thanks, Ben. John? Yeah. I agree. I think we're right on track. As far as the state DEQ, very pleased with all the efforts for our actions so far. All right. Thank you very much. Okay. From the Jefferson County standpoint, I certainly concur with the plan. It appears to be a good, solid plan that everybody supports, so I want to thank everybody for pulling this thing together in a short period of time. We're going to be in pretty good shape for this upcoming operational period. The only other thing I would add is that I'll continue to be the Unified Incident Command spokesperson for the rest of this upcoming operational period, and then we'll hand that over to one of the other ICs tomorrow. That's all I've got. I'm going to go ahead and get ready for the briefing. All right. Thanks, Joe. Okay. I need the IAP components in to me by 1530 this afternoon to get ready for the 1800 operational briefing for tonight, and evidently, logistics is building that north of our command post, so you'll be reporting out there to do the operational briefing. We also have a 2000 planning meeting that will be back here to work on tomorrow's day operations. With that, please go ahead and turn your cell phones and pagers back on and get those IAP parts in to help me out. Thank you.\\n\")assistant\n\n**Meeting Details:**\n\n- **Location:** Incident Command Post, A Building Conference Room\n- **Date:** Not specified in the transcript\n- **Time:** Not specified in the transcript, but mentioned as \"tonight\" and \"tomorrow\"\n- **Attendees:** \n  1. Jeff ( Incident Commander)\n  2. Rich (Operations Section Chief)\n  3. John (Safety Officer)\n  4. Dale (Logistics)\n  5. Jim (Liaison)\n  6. Carol (Information)\n  7. Bill (Finance)\n  8. Steve (Department of Transportation)\n  9. Lucia (Agency Administrator)\n  10. Joel (Agency Administrator)\n  11. Ben (EPA Representative)\n  12. John (State DEQ Representative)\n  13. Joe (Unified Incident Command Spokesperson)\n\n**Summary of the Meeting:**\n\nThe meeting is a planning meeting for the operational period ahead, focusing on the response to a tractor-trailer accident that has spilled diazonon and diesel fuel. The Operations Section Chief, Rich, presents the plan for the night operational period, which includes improving dikes around the spill area, conducting a safety analysis, and setting up a responder rehab area. The team discusses logistics, liaison, information, and finance, and receives updates from various agencies. The meeting concludes with a final buy-off from the incident management team members and stakeholders, confirming the support for the operational plan.\n\n**Key Discussion Points:**\n\n1. The incident objectives were confirmed as still valid.\n2. The Operations Section Chief presented the plan for the night operational period.\n3. The safety analysis highlighted the need for proper PPE, mitigation measures, and concern about fatigue and dehydration.\n4. Logistics discussed food, drinks, and tents for the Responder Rehab Area.\n5. Liaison and Information updates were provided.\n6. Finance discussed tracking expenditures and traffic control safety devices.\n7. The team supported the plan with a safety buy-off.\n\n**Takeaways:**\n\n1. The incident response plan is in place, with a focus on improving dikes around the spill area.\n2. Safety concerns were addressed, including proper PPE and mitigation measures.\n3. Logistics and information updates were provided.\n4. The team supported the plan with a safety buy-off.\n5. The Unified Incident Command Spokesperson will continue to represent the team for the rest of the operational period.\n\n**List of Action Items:**\n\n1. IAP components should be submitted to the Incident Commander by 1530 this afternoon.\n2. Logistics should build a briefing area north of the command post.\n3. The operational briefing for tonight should be held at 1800.\n4. A 2000 planning meeting will be held to work on tomorrow's day operations.\n5. Agency administrators should be notified of the plan and its details.\n6. The Incident Commander should receive updates on the IAP components and logistics.\n7. The team should be prepared for the operational briefing and the 2000 planning meeting."
          },
          "metadata": {}
        }
      ]
    },
    {
      "cell_type": "code",
      "source": [
        "with open(\"/content/drive/MyDrive/ai-projects/quick-meet/transcript.md\", \"w\") as f:\n",
        "    f.write(final_script)"
      ],
      "metadata": {
        "id": "oj2TJr2OsJeq"
      },
      "execution_count": 13,
      "outputs": []
    }
  ]
}