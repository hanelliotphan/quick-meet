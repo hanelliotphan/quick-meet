{
  "nbformat": 4,
  "nbformat_minor": 0,
  "metadata": {
    "colab": {
      "provenance": [],
      "gpuType": "T4"
    },
    "kernelspec": {
      "name": "python3",
      "display_name": "Python 3"
    },
    "language_info": {
      "name": "python"
    },
    "accelerator": "GPU",
    "widgets": {
      "application/vnd.jupyter.widget-state+json": {
        "56cedcb0ab224c10ba49ea4ba9d5fe43": {
          "model_module": "@jupyter-widgets/controls",
          "model_name": "HBoxModel",
          "model_module_version": "1.5.0",
          "state": {
            "_dom_classes": [],
            "_model_module": "@jupyter-widgets/controls",
            "_model_module_version": "1.5.0",
            "_model_name": "HBoxModel",
            "_view_count": null,
            "_view_module": "@jupyter-widgets/controls",
            "_view_module_version": "1.5.0",
            "_view_name": "HBoxView",
            "box_style": "",
            "children": [
              "IPY_MODEL_0d4cd4f95e6a4e9f952feee0cb6598d4",
              "IPY_MODEL_28da63bffc954597aade52afe86ff80f",
              "IPY_MODEL_1374af1287674386a0a4a635b8c0be4d"
            ],
            "layout": "IPY_MODEL_53286417a19d47aeb74b01ed1d9b49a6"
          }
        },
        "0d4cd4f95e6a4e9f952feee0cb6598d4": {
          "model_module": "@jupyter-widgets/controls",
          "model_name": "HTMLModel",
          "model_module_version": "1.5.0",
          "state": {
            "_dom_classes": [],
            "_model_module": "@jupyter-widgets/controls",
            "_model_module_version": "1.5.0",
            "_model_name": "HTMLModel",
            "_view_count": null,
            "_view_module": "@jupyter-widgets/controls",
            "_view_module_version": "1.5.0",
            "_view_name": "HTMLView",
            "description": "",
            "description_tooltip": null,
            "layout": "IPY_MODEL_a459ac67bd094c3a9898e70f71bd73f7",
            "placeholder": "​",
            "style": "IPY_MODEL_fe73f7b5e12b4cdeb5f2d5534b82d58d",
            "value": "Loading checkpoint shards: 100%"
          }
        },
        "28da63bffc954597aade52afe86ff80f": {
          "model_module": "@jupyter-widgets/controls",
          "model_name": "FloatProgressModel",
          "model_module_version": "1.5.0",
          "state": {
            "_dom_classes": [],
            "_model_module": "@jupyter-widgets/controls",
            "_model_module_version": "1.5.0",
            "_model_name": "FloatProgressModel",
            "_view_count": null,
            "_view_module": "@jupyter-widgets/controls",
            "_view_module_version": "1.5.0",
            "_view_name": "ProgressView",
            "bar_style": "success",
            "description": "",
            "description_tooltip": null,
            "layout": "IPY_MODEL_cee57ff0b6ba4551960a4e64e8b2f589",
            "max": 4,
            "min": 0,
            "orientation": "horizontal",
            "style": "IPY_MODEL_cca8b4bef8074e6596902defff9c9318",
            "value": 4
          }
        },
        "1374af1287674386a0a4a635b8c0be4d": {
          "model_module": "@jupyter-widgets/controls",
          "model_name": "HTMLModel",
          "model_module_version": "1.5.0",
          "state": {
            "_dom_classes": [],
            "_model_module": "@jupyter-widgets/controls",
            "_model_module_version": "1.5.0",
            "_model_name": "HTMLModel",
            "_view_count": null,
            "_view_module": "@jupyter-widgets/controls",
            "_view_module_version": "1.5.0",
            "_view_name": "HTMLView",
            "description": "",
            "description_tooltip": null,
            "layout": "IPY_MODEL_561917d1598c4bebaeb5d51572d23a56",
            "placeholder": "​",
            "style": "IPY_MODEL_29098459fe6c475bb93c29ff733dcdc0",
            "value": " 4/4 [01:15&lt;00:00, 16.08s/it]"
          }
        },
        "53286417a19d47aeb74b01ed1d9b49a6": {
          "model_module": "@jupyter-widgets/base",
          "model_name": "LayoutModel",
          "model_module_version": "1.2.0",
          "state": {
            "_model_module": "@jupyter-widgets/base",
            "_model_module_version": "1.2.0",
            "_model_name": "LayoutModel",
            "_view_count": null,
            "_view_module": "@jupyter-widgets/base",
            "_view_module_version": "1.2.0",
            "_view_name": "LayoutView",
            "align_content": null,
            "align_items": null,
            "align_self": null,
            "border": null,
            "bottom": null,
            "display": null,
            "flex": null,
            "flex_flow": null,
            "grid_area": null,
            "grid_auto_columns": null,
            "grid_auto_flow": null,
            "grid_auto_rows": null,
            "grid_column": null,
            "grid_gap": null,
            "grid_row": null,
            "grid_template_areas": null,
            "grid_template_columns": null,
            "grid_template_rows": null,
            "height": null,
            "justify_content": null,
            "justify_items": null,
            "left": null,
            "margin": null,
            "max_height": null,
            "max_width": null,
            "min_height": null,
            "min_width": null,
            "object_fit": null,
            "object_position": null,
            "order": null,
            "overflow": null,
            "overflow_x": null,
            "overflow_y": null,
            "padding": null,
            "right": null,
            "top": null,
            "visibility": null,
            "width": null
          }
        },
        "a459ac67bd094c3a9898e70f71bd73f7": {
          "model_module": "@jupyter-widgets/base",
          "model_name": "LayoutModel",
          "model_module_version": "1.2.0",
          "state": {
            "_model_module": "@jupyter-widgets/base",
            "_model_module_version": "1.2.0",
            "_model_name": "LayoutModel",
            "_view_count": null,
            "_view_module": "@jupyter-widgets/base",
            "_view_module_version": "1.2.0",
            "_view_name": "LayoutView",
            "align_content": null,
            "align_items": null,
            "align_self": null,
            "border": null,
            "bottom": null,
            "display": null,
            "flex": null,
            "flex_flow": null,
            "grid_area": null,
            "grid_auto_columns": null,
            "grid_auto_flow": null,
            "grid_auto_rows": null,
            "grid_column": null,
            "grid_gap": null,
            "grid_row": null,
            "grid_template_areas": null,
            "grid_template_columns": null,
            "grid_template_rows": null,
            "height": null,
            "justify_content": null,
            "justify_items": null,
            "left": null,
            "margin": null,
            "max_height": null,
            "max_width": null,
            "min_height": null,
            "min_width": null,
            "object_fit": null,
            "object_position": null,
            "order": null,
            "overflow": null,
            "overflow_x": null,
            "overflow_y": null,
            "padding": null,
            "right": null,
            "top": null,
            "visibility": null,
            "width": null
          }
        },
        "fe73f7b5e12b4cdeb5f2d5534b82d58d": {
          "model_module": "@jupyter-widgets/controls",
          "model_name": "DescriptionStyleModel",
          "model_module_version": "1.5.0",
          "state": {
            "_model_module": "@jupyter-widgets/controls",
            "_model_module_version": "1.5.0",
            "_model_name": "DescriptionStyleModel",
            "_view_count": null,
            "_view_module": "@jupyter-widgets/base",
            "_view_module_version": "1.2.0",
            "_view_name": "StyleView",
            "description_width": ""
          }
        },
        "cee57ff0b6ba4551960a4e64e8b2f589": {
          "model_module": "@jupyter-widgets/base",
          "model_name": "LayoutModel",
          "model_module_version": "1.2.0",
          "state": {
            "_model_module": "@jupyter-widgets/base",
            "_model_module_version": "1.2.0",
            "_model_name": "LayoutModel",
            "_view_count": null,
            "_view_module": "@jupyter-widgets/base",
            "_view_module_version": "1.2.0",
            "_view_name": "LayoutView",
            "align_content": null,
            "align_items": null,
            "align_self": null,
            "border": null,
            "bottom": null,
            "display": null,
            "flex": null,
            "flex_flow": null,
            "grid_area": null,
            "grid_auto_columns": null,
            "grid_auto_flow": null,
            "grid_auto_rows": null,
            "grid_column": null,
            "grid_gap": null,
            "grid_row": null,
            "grid_template_areas": null,
            "grid_template_columns": null,
            "grid_template_rows": null,
            "height": null,
            "justify_content": null,
            "justify_items": null,
            "left": null,
            "margin": null,
            "max_height": null,
            "max_width": null,
            "min_height": null,
            "min_width": null,
            "object_fit": null,
            "object_position": null,
            "order": null,
            "overflow": null,
            "overflow_x": null,
            "overflow_y": null,
            "padding": null,
            "right": null,
            "top": null,
            "visibility": null,
            "width": null
          }
        },
        "cca8b4bef8074e6596902defff9c9318": {
          "model_module": "@jupyter-widgets/controls",
          "model_name": "ProgressStyleModel",
          "model_module_version": "1.5.0",
          "state": {
            "_model_module": "@jupyter-widgets/controls",
            "_model_module_version": "1.5.0",
            "_model_name": "ProgressStyleModel",
            "_view_count": null,
            "_view_module": "@jupyter-widgets/base",
            "_view_module_version": "1.2.0",
            "_view_name": "StyleView",
            "bar_color": null,
            "description_width": ""
          }
        },
        "561917d1598c4bebaeb5d51572d23a56": {
          "model_module": "@jupyter-widgets/base",
          "model_name": "LayoutModel",
          "model_module_version": "1.2.0",
          "state": {
            "_model_module": "@jupyter-widgets/base",
            "_model_module_version": "1.2.0",
            "_model_name": "LayoutModel",
            "_view_count": null,
            "_view_module": "@jupyter-widgets/base",
            "_view_module_version": "1.2.0",
            "_view_name": "LayoutView",
            "align_content": null,
            "align_items": null,
            "align_self": null,
            "border": null,
            "bottom": null,
            "display": null,
            "flex": null,
            "flex_flow": null,
            "grid_area": null,
            "grid_auto_columns": null,
            "grid_auto_flow": null,
            "grid_auto_rows": null,
            "grid_column": null,
            "grid_gap": null,
            "grid_row": null,
            "grid_template_areas": null,
            "grid_template_columns": null,
            "grid_template_rows": null,
            "height": null,
            "justify_content": null,
            "justify_items": null,
            "left": null,
            "margin": null,
            "max_height": null,
            "max_width": null,
            "min_height": null,
            "min_width": null,
            "object_fit": null,
            "object_position": null,
            "order": null,
            "overflow": null,
            "overflow_x": null,
            "overflow_y": null,
            "padding": null,
            "right": null,
            "top": null,
            "visibility": null,
            "width": null
          }
        },
        "29098459fe6c475bb93c29ff733dcdc0": {
          "model_module": "@jupyter-widgets/controls",
          "model_name": "DescriptionStyleModel",
          "model_module_version": "1.5.0",
          "state": {
            "_model_module": "@jupyter-widgets/controls",
            "_model_module_version": "1.5.0",
            "_model_name": "DescriptionStyleModel",
            "_view_count": null,
            "_view_module": "@jupyter-widgets/base",
            "_view_module_version": "1.2.0",
            "_view_name": "StyleView",
            "description_width": ""
          }
        }
      }
    }
  },
  "cells": [
    {
      "cell_type": "markdown",
      "source": [
        "# QuickMeet - Create List of Action Items from Meeting Transcriptions\n",
        "\n",
        "```bash\n",
        "Author: Han-Elliot Phan\n",
        "Email: hanelliotphan@gmail.com\n",
        "\n",
        "Last Update: February 11, 2025\n",
        "```\n",
        "\n",
        "## Brief Discussion\n",
        "This project is to create list of action items based on the meeting transcriptions using Python and Llama-3 model. This notebook is used solely for research purpose. The source code of the project can be found [here](https://github.com/hanelliotphan/quick-meet).\n",
        "\n",
        "## Architecture\n",
        "This project uses the OpenAI's Whisper-1 model for audio-to-text transcription, and Meta's LLama-3 model for quantization for the process of generating list of action items.\n",
        "\n",
        "For more information about the model, please read the following documentation\n",
        "- [OpenAI's Whisper-1](https://platform.openai.com/docs/guides/speech-to-text)\n",
        "- [Meta's Llama-3](https://huggingface.co/meta-llama/Llama-3.1-8B-Instruct)\n",
        "\n",
        "## Dedication\n",
        "I dedicate this hard-work commitment to myself, my mother, my best friend Ha-Phuong and those that have imprinted in my heart. I hope that I have made you all truly proud of me."
      ],
      "metadata": {
        "id": "IOw1NOMm3pem"
      }
    },
    {
      "cell_type": "markdown",
      "source": [
        "--------------------------------------------------------------------------------"
      ],
      "metadata": {
        "id": "AcuOABcH5LgJ"
      }
    },
    {
      "cell_type": "code",
      "source": [
        "!nvidia-smi"
      ],
      "metadata": {
        "colab": {
          "base_uri": "https://localhost:8080/"
        },
        "id": "OZgtX46eoVcA",
        "outputId": "6de77c49-17d6-4440-8d6d-71d7322daa72"
      },
      "execution_count": 1,
      "outputs": [
        {
          "output_type": "stream",
          "name": "stdout",
          "text": [
            "Tue Feb 11 20:48:55 2025       \n",
            "+-----------------------------------------------------------------------------------------+\n",
            "| NVIDIA-SMI 550.54.15              Driver Version: 550.54.15      CUDA Version: 12.4     |\n",
            "|-----------------------------------------+------------------------+----------------------+\n",
            "| GPU  Name                 Persistence-M | Bus-Id          Disp.A | Volatile Uncorr. ECC |\n",
            "| Fan  Temp   Perf          Pwr:Usage/Cap |           Memory-Usage | GPU-Util  Compute M. |\n",
            "|                                         |                        |               MIG M. |\n",
            "|=========================================+========================+======================|\n",
            "|   0  Tesla T4                       Off |   00000000:00:04.0 Off |                    0 |\n",
            "| N/A   79C    P0             33W /   70W |       0MiB /  15360MiB |      0%      Default |\n",
            "|                                         |                        |                  N/A |\n",
            "+-----------------------------------------+------------------------+----------------------+\n",
            "                                                                                         \n",
            "+-----------------------------------------------------------------------------------------+\n",
            "| Processes:                                                                              |\n",
            "|  GPU   GI   CI        PID   Type   Process name                              GPU Memory |\n",
            "|        ID   ID                                                               Usage      |\n",
            "|=========================================================================================|\n",
            "|  No running processes found                                                             |\n",
            "+-----------------------------------------------------------------------------------------+\n"
          ]
        }
      ]
    },
    {
      "cell_type": "code",
      "source": [
        "!pip install -q -U requests torch torchvision bitsandbytes transformers accelerate sentencepiece"
      ],
      "metadata": {
        "collapsed": true,
        "id": "OcOE_sQdmied"
      },
      "execution_count": 2,
      "outputs": []
    },
    {
      "cell_type": "code",
      "source": [
        "!pip install -q -U datasets transformers sentencepiece soundfile accelerate bitsandbytes"
      ],
      "metadata": {
        "collapsed": true,
        "id": "YPA0-VrXpkQw"
      },
      "execution_count": 3,
      "outputs": []
    },
    {
      "cell_type": "code",
      "source": [
        "# Import libraries\n",
        "\n",
        "import os\n",
        "import requests\n",
        "import torch\n",
        "\n",
        "from IPython.display import display, Markdown, update_display\n",
        "from openai import OpenAI\n",
        "from google.colab import drive, userdata\n",
        "from huggingface_hub import login\n",
        "from transformers import AutoTokenizer, AutoModelForCausalLM, TextStreamer, BitsAndBytesConfig"
      ],
      "metadata": {
        "id": "Rtna0TBFGCAL"
      },
      "execution_count": 4,
      "outputs": []
    },
    {
      "cell_type": "code",
      "source": [
        "# Set up model constants\n",
        "\n",
        "AUDIO_MODEL = \"whisper-1\"\n",
        "LLAMA3 = \"meta-llama/Meta-Llama-3.1-8B-Instruct\""
      ],
      "metadata": {
        "id": "w-abQZnZSBh6"
      },
      "execution_count": 5,
      "outputs": []
    },
    {
      "cell_type": "code",
      "source": [
        "# Fetch audio transcription\n",
        "# Source: https://www.rmofspringfield.ca/p/meeting-audio-files\n",
        "\n",
        "drive.mount(\"/content/drive\")\n",
        "meeting_audio_filepath = \"/content/drive/MyDrive/ai-projects/quick-meet/meeting-audios/meeting-audio.mp4\""
      ],
      "metadata": {
        "colab": {
          "base_uri": "https://localhost:8080/"
        },
        "id": "Yq1xSd-9Y3Vs",
        "outputId": "9286f058-98f5-4504-936d-a8fdef6ba751"
      },
      "execution_count": 6,
      "outputs": [
        {
          "output_type": "stream",
          "name": "stdout",
          "text": [
            "Drive already mounted at /content/drive; to attempt to forcibly remount, call drive.mount(\"/content/drive\", force_remount=True).\n"
          ]
        }
      ]
    },
    {
      "cell_type": "code",
      "source": [
        "# Sign in to HuggingFace\n",
        "\n",
        "hf_token = userdata.get(\"HF_TOKEN\")\n",
        "login(token=hf_token)"
      ],
      "metadata": {
        "id": "RO2juhjXbGdR"
      },
      "execution_count": 7,
      "outputs": []
    },
    {
      "cell_type": "code",
      "source": [
        "# Sign in to OpenAI\n",
        "\n",
        "openai_api_key = userdata.get(\"OPENAI_API_KEY\")\n",
        "openai = OpenAI(api_key=openai_api_key)"
      ],
      "metadata": {
        "id": "ORotbYnZbVES"
      },
      "execution_count": 8,
      "outputs": []
    },
    {
      "cell_type": "code",
      "source": [
        "# Convert audio to text using OpenAI Whisper-1 model\n",
        "\n",
        "meeting_audio = open(meeting_audio_filepath, \"rb\")\n",
        "transcript = openai.audio.transcriptions.create(model=AUDIO_MODEL, file=meeting_audio, response_format=\"text\")\n",
        "print(transcript)"
      ],
      "metadata": {
        "colab": {
          "base_uri": "https://localhost:8080/"
        },
        "id": "CA6Kmm_ccl6m",
        "outputId": "e2dfecdf-6981-4a21-a7b8-9950e48a22d9"
      },
      "execution_count": 9,
      "outputs": [
        {
          "output_type": "stream",
          "name": "stdout",
          "text": [
            "The planning meeting provides the opportunity for the command and general staff, as well as agency officials and other key personnel, to hear the complete plan for the next operational period as proposed by the Operations Section Chief. By the time the meeting occurs, the IMT should have vetted the information so there would be few, if any changes needed during the meeting, and no one is surprised by the proposed plan. The goal of the planning meeting is really to get the final buy-off from the incident management team members and some of the stakeholders, and that's really what it's all about, is getting that final support, that final buy-off, where people can walk away and say, this is implementable, it is supportable, and it's going to do the trick. I'd like to welcome everybody to the planning meeting for tonight's operational plan. If I could have everybody kind of check their cell phones, pagers, radios, and if you could kind of keep your side conversations to yourself, certainly appreciate it. With that, let's get going, and we'll start with an update on the current situation with our Operations Section Chief, Rich. Thank you, Joe. The incident we're working on started early this morning when a tractor-trailer on Highway 265 was making the transition onto Highway 71. In the process of coming off the transition road, it went off the road, overturned, and spilled its load of diazonon. The trailer was loaded with 15 300-gallon totes of diazonon, which spilled. We also have a spill of about 200 gallons of diesel fuel from the truck. The spill, the chemicals started down through this drainage here, went through a culvert underneath the freeway, and continued on. It currently has contaminated a couple of the water ponds along the drainage there, pond number two, and we're checking into contamination right now in pond number three. Driver had moderate injuries, was transported to one of the local hospitals. For scene control right now, we have six roadblocks set up on 265 and 71. Our biggest concern right now is that the chemicals will continue downstream here in this drainage and have an impact on two domestic water systems downstream. We have advised those water companies that the potential is there, and they're prepared to shut down those intakes. Thank you. Okay, we do have the incident objectives posted right here. They are the ones that were developed during the unified command meeting. Just confirming that they are still valid. Still valid. Yes. Yep, still valid. All right, sounds great. Let's get started about what's going to happen tonight. I've got the weather. Looks like this is going to be the calm before the storm essentially starting tonight. Coming from the southwest, we've got a fairly good storm coming in, so it'll be increasing clouds, possibility of one to two inches of rain, 68 degrees tonight. Winds are going to be out of the southwest, about five to 15. Looking towards the morning and throughout the day, eventually it'll be a high of 86. Winds again are going to be pretty much the same as far as the five to 15 from the southwest. So with that, to set up the operational plan, I'll have Rich come up and talk about what he's going to do tomorrow. Rich. Thanks again, Jeff. All right, we're going to continue with the organization as it's presently set up. We have two geographic divisions. We have Division A, Division B, and then we have three functional groups that we're going to operate through this operational period. In Division A, we're going to improve the dikes around the spill area. The Operations Section Chief will go over tactics, work assignments, and resources for each branch, division, and group on the ICS 215 wall chart. Any questions about the night operational plan? Thank you. All right. Thanks a lot, Rich. Next with a safety analysis, John, our safety officer. I've done an incident safety analysis based on the tactics as presented by the Operations Section Chief. I've discussed our mitigation measures with him, and we think we have a good opportunity to pursue this plan. Our primary concern is that we are dealing with a moderately toxic organophosphate pesticide, biazanone. It is also a combustible liquid, so we need to make sure that everybody's in proper PPE for the activities that are being accomplished. In the event that we do have fire in the product, we need to make sure we use as little water as possible in suppression because the runoff is a greater concern than is the smoke. We're also going to have an issue with fatigue and dehydration with our folks working in PPE, so we need to make sure that those folks are properly hydrated. I've ordered three additional safety officers, assistant safety officers, one for Division Alpha, one for the decon group, and one for the treatment group. Any questions on the safety plan? Thank you. All right. Thanks, John. Next, let's do some information sharing. Looks like logistics. Dale? Thanks, Jeff. I have a few things I need to cover. Food and drinks are on order along with tents for the Responder Rehab Area. We'll get that set up as soon as possible when it comes in. So far, the Emergency Operations Center has been able to fill orders when placed. All fresh resources will be here for the operations briefing, and we're setting up a briefing area north side of the Incident Command Post in the A Building Conference Room. Does anybody have any questions for logistics? Next, Jim. Liaison? I've attempted to contact every agency that's on the scene. If you're aware of any new agencies that are here, please let me know so I can find out if they're going to have a representative on site. Thank you. Thanks, Jim. Next, information. Carol? The local MEC has decided to set up a joint information center, and they're almost set up and ready to go. There's a lot of media interest, so please be patient. We will be presenting the first press release to the IC for approval, and I will have a message written up to put in the IAP also. Thank you. All right. Thanks, Carol. How about Bill? Finance? I don't have anything new, but we'll have a time unit leader and a cost unit leader here shortly so we can start tracking the expenditures. I do see that we do have an agency rep from the Department of Transportation, so Steve. Thank you. We do have a number of traffic control safety devices in route and in staging. When we're advised that you want to open the interstate, we'll be able to partially deploy those for opening the road. Excellent. Thank you. Okay. We've heard the plan and shared our information, so can we as a team support the plan looking at logistics? Support plan. Liaison? Information? Yes. Finance? Bill? Yes. Okay. And, of course, we need to have safety buyoff? Support the plan. Excellent. Okay. It looks like that's a wrap then. I also see that we do have our agency administrators here, and I'd certainly like to give them an opportunity to say something if they have. So let's start with Lucia. Thanks, Jeff. I just wanted to add that the County Emergency Operations Center director has briefed the State Department of Emergency Management, so they're aware of our situation. Thank you. I appreciate that. Joel? No comments. Okay. Thank you. Okay. Looking for concurrence from our Unified Command. Start with Ben. Yes. From the EPA's perspective, everything's looking pretty good. Our agency does have a representative en route to serve as a group supervisor, and they will be here in time for the ops briefing. Thanks, Ben. John? Yeah. I agree. I think we're right on track. As far as the state DEQ, very pleased with all the efforts for our actions so far. All right. Thank you very much. Okay. From the Jefferson County standpoint, I certainly concur with the plan. It appears to be a good, solid plan that everybody supports, so I want to thank everybody for pulling this thing together in a short period of time. We're going to be in pretty good shape for this upcoming operational period. The only other thing I would add is that I'll continue to be the Unified Incident Command spokesperson for the rest of this upcoming operational period, and then we'll hand that over to one of the other ICs tomorrow. That's all I've got. I'm going to go ahead and get ready for the briefing. All right. Thanks, Joe. Okay. I need the IAP components in to me by 1530 this afternoon to get ready for the 1800 operational briefing for tonight, and evidently, logistics is building that north of our command post, so you'll be reporting out there to do the operational briefing. We also have a 2000 planning meeting that will be back here to work on tomorrow's day operations. With that, please go ahead and turn your cell phones and pagers back on and get those IAP parts in to help me out. Thank you.\n",
            "\n"
          ]
        }
      ]
    },
    {
      "cell_type": "code",
      "source": [
        "# Prompt to perform to-do generation\n",
        "\n",
        "system_msg = \"I am an assistant that takes in an audio transcript and then provides summary, key discussion points, takeaways and list of action items\"\n",
        "user_prompt = \"Here is a meeting audio transcript. Please provide the location, date and summary of the meeting with attendees, and list of action items accoridingly: \", transcript\n",
        "\n",
        "messages = [\n",
        "    {\"role\": \"system\", \"content\": system_msg},\n",
        "    {\"role\": \"user\", \"content\": user_prompt}\n",
        "]"
      ],
      "metadata": {
        "id": "kzlroL6fi39Q"
      },
      "execution_count": 10,
      "outputs": []
    },
    {
      "cell_type": "code",
      "source": [
        "# Configure quantization\n",
        "\n",
        "quant_config = BitsAndBytesConfig(\n",
        "    load_in_4bit=True,\n",
        "    bnb_4bit_use_double_quant=True,\n",
        "    bnb_4bit_quant_type=\"nf4\",\n",
        "    bnb_4bit_compute_dtype=torch.bfloat16\n",
        ")"
      ],
      "metadata": {
        "id": "gkZ5uj-GmX_s"
      },
      "execution_count": 11,
      "outputs": []
    },
    {
      "cell_type": "code",
      "source": [
        "# Set up Llama-3 tokenizer\n",
        "\n",
        "llama3_tokenizer = AutoTokenizer.from_pretrained(LLAMA3)\n",
        "llama3_tokenizer.pad_token = llama3_tokenizer.eos_token\n",
        "inputs = llama3_tokenizer.apply_chat_template(messages, return_tensors=\"pt\").to(\"cuda\")\n",
        "streamer = TextStreamer(llama3_tokenizer)\n",
        "model = AutoModelForCausalLM.from_pretrained(\n",
        "    LLAMA3,\n",
        "    device_map=\"auto\",\n",
        "    trust_remote_code=True,\n",
        "    quantization_config=quant_config\n",
        ")\n",
        "outputs = model.generate(inputs, streamer=streamer, max_new_tokens=2000)"
      ],
      "metadata": {
        "colab": {
          "base_uri": "https://localhost:8080/",
          "height": 1000,
          "referenced_widgets": [
            "56cedcb0ab224c10ba49ea4ba9d5fe43",
            "0d4cd4f95e6a4e9f952feee0cb6598d4",
            "28da63bffc954597aade52afe86ff80f",
            "1374af1287674386a0a4a635b8c0be4d",
            "53286417a19d47aeb74b01ed1d9b49a6",
            "a459ac67bd094c3a9898e70f71bd73f7",
            "fe73f7b5e12b4cdeb5f2d5534b82d58d",
            "cee57ff0b6ba4551960a4e64e8b2f589",
            "cca8b4bef8074e6596902defff9c9318",
            "561917d1598c4bebaeb5d51572d23a56",
            "29098459fe6c475bb93c29ff733dcdc0"
          ]
        },
        "id": "__BD1ZQYnzTM",
        "outputId": "fb0526c5-5762-46ac-acea-d58f202571fc"
      },
      "execution_count": 12,
      "outputs": [
        {
          "output_type": "display_data",
          "data": {
            "text/plain": [
              "Loading checkpoint shards:   0%|          | 0/4 [00:00<?, ?it/s]"
            ],
            "application/vnd.jupyter.widget-view+json": {
              "version_major": 2,
              "version_minor": 0,
              "model_id": "56cedcb0ab224c10ba49ea4ba9d5fe43"
            }
          },
          "metadata": {}
        },
        {
          "output_type": "stream",
          "name": "stderr",
          "text": [
            "The attention mask and the pad token id were not set. As a consequence, you may observe unexpected behavior. Please pass your input's `attention_mask` to obtain reliable results.\n",
            "Setting `pad_token_id` to `eos_token_id`:128001 for open-end generation.\n",
            "The attention mask is not set and cannot be inferred from input because pad token is same as eos token. As a consequence, you may observe unexpected behavior. Please pass your input's `attention_mask` to obtain reliable results.\n"
          ]
        },
        {
          "output_type": "stream",
          "name": "stdout",
          "text": [
            "<|begin_of_text|><|start_header_id|>system<|end_header_id|>\n",
            "\n",
            "Cutting Knowledge Date: December 2023\n",
            "Today Date: 26 Jul 2024\n",
            "\n",
            "I am an assistant that takes in an audio transcript and then provides summary, key discussion points, takeaways and list of action items<|eot_id|><|start_header_id|>user<|end_header_id|>\n",
            "\n",
            "('Here is a meeting audio transcript. Please provide the location, date and summary of the meeting with attendees, and list of action items accoridingly: ', \"The planning meeting provides the opportunity for the command and general staff, as well as agency officials and other key personnel, to hear the complete plan for the next operational period as proposed by the Operations Section Chief. By the time the meeting occurs, the IMT should have vetted the information so there would be few, if any changes needed during the meeting, and no one is surprised by the proposed plan. The goal of the planning meeting is really to get the final buy-off from the incident management team members and some of the stakeholders, and that's really what it's all about, is getting that final support, that final buy-off, where people can walk away and say, this is implementable, it is supportable, and it's going to do the trick. I'd like to welcome everybody to the planning meeting for tonight's operational plan. If I could have everybody kind of check their cell phones, pagers, radios, and if you could kind of keep your side conversations to yourself, certainly appreciate it. With that, let's get going, and we'll start with an update on the current situation with our Operations Section Chief, Rich. Thank you, Joe. The incident we're working on started early this morning when a tractor-trailer on Highway 265 was making the transition onto Highway 71. In the process of coming off the transition road, it went off the road, overturned, and spilled its load of diazonon. The trailer was loaded with 15 300-gallon totes of diazonon, which spilled. We also have a spill of about 200 gallons of diesel fuel from the truck. The spill, the chemicals started down through this drainage here, went through a culvert underneath the freeway, and continued on. It currently has contaminated a couple of the water ponds along the drainage there, pond number two, and we're checking into contamination right now in pond number three. Driver had moderate injuries, was transported to one of the local hospitals. For scene control right now, we have six roadblocks set up on 265 and 71. Our biggest concern right now is that the chemicals will continue downstream here in this drainage and have an impact on two domestic water systems downstream. We have advised those water companies that the potential is there, and they're prepared to shut down those intakes. Thank you. Okay, we do have the incident objectives posted right here. They are the ones that were developed during the unified command meeting. Just confirming that they are still valid. Still valid. Yes. Yep, still valid. All right, sounds great. Let's get started about what's going to happen tonight. I've got the weather. Looks like this is going to be the calm before the storm essentially starting tonight. Coming from the southwest, we've got a fairly good storm coming in, so it'll be increasing clouds, possibility of one to two inches of rain, 68 degrees tonight. Winds are going to be out of the southwest, about five to 15. Looking towards the morning and throughout the day, eventually it'll be a high of 86. Winds again are going to be pretty much the same as far as the five to 15 from the southwest. So with that, to set up the operational plan, I'll have Rich come up and talk about what he's going to do tomorrow. Rich. Thanks again, Jeff. All right, we're going to continue with the organization as it's presently set up. We have two geographic divisions. We have Division A, Division B, and then we have three functional groups that we're going to operate through this operational period. In Division A, we're going to improve the dikes around the spill area. The Operations Section Chief will go over tactics, work assignments, and resources for each branch, division, and group on the ICS 215 wall chart. Any questions about the night operational plan? Thank you. All right. Thanks a lot, Rich. Next with a safety analysis, John, our safety officer. I've done an incident safety analysis based on the tactics as presented by the Operations Section Chief. I've discussed our mitigation measures with him, and we think we have a good opportunity to pursue this plan. Our primary concern is that we are dealing with a moderately toxic organophosphate pesticide, biazanone. It is also a combustible liquid, so we need to make sure that everybody's in proper PPE for the activities that are being accomplished. In the event that we do have fire in the product, we need to make sure we use as little water as possible in suppression because the runoff is a greater concern than is the smoke. We're also going to have an issue with fatigue and dehydration with our folks working in PPE, so we need to make sure that those folks are properly hydrated. I've ordered three additional safety officers, assistant safety officers, one for Division Alpha, one for the decon group, and one for the treatment group. Any questions on the safety plan? Thank you. All right. Thanks, John. Next, let's do some information sharing. Looks like logistics. Dale? Thanks, Jeff. I have a few things I need to cover. Food and drinks are on order along with tents for the Responder Rehab Area. We'll get that set up as soon as possible when it comes in. So far, the Emergency Operations Center has been able to fill orders when placed. All fresh resources will be here for the operations briefing, and we're setting up a briefing area north side of the Incident Command Post in the A Building Conference Room. Does anybody have any questions for logistics? Next, Jim. Liaison? I've attempted to contact every agency that's on the scene. If you're aware of any new agencies that are here, please let me know so I can find out if they're going to have a representative on site. Thank you. Thanks, Jim. Next, information. Carol? The local MEC has decided to set up a joint information center, and they're almost set up and ready to go. There's a lot of media interest, so please be patient. We will be presenting the first press release to the IC for approval, and I will have a message written up to put in the IAP also. Thank you. All right. Thanks, Carol. How about Bill? Finance? I don't have anything new, but we'll have a time unit leader and a cost unit leader here shortly so we can start tracking the expenditures. I do see that we do have an agency rep from the Department of Transportation, so Steve. Thank you. We do have a number of traffic control safety devices in route and in staging. When we're advised that you want to open the interstate, we'll be able to partially deploy those for opening the road. Excellent. Thank you. Okay. We've heard the plan and shared our information, so can we as a team support the plan looking at logistics? Support plan. Liaison? Information? Yes. Finance? Bill? Yes. Okay. And, of course, we need to have safety buyoff? Support the plan. Excellent. Okay. It looks like that's a wrap then. I also see that we do have our agency administrators here, and I'd certainly like to give them an opportunity to say something if they have. So let's start with Lucia. Thanks, Jeff. I just wanted to add that the County Emergency Operations Center director has briefed the State Department of Emergency Management, so they're aware of our situation. Thank you. I appreciate that. Joel? No comments. Okay. Thank you. Okay. Looking for concurrence from our Unified Command. Start with Ben. Yes. From the EPA's perspective, everything's looking pretty good. Our agency does have a representative en route to serve as a group supervisor, and they will be here in time for the ops briefing. Thanks, Ben. John? Yeah. I agree. I think we're right on track. As far as the state DEQ, very pleased with all the efforts for our actions so far. All right. Thank you very much. Okay. From the Jefferson County standpoint, I certainly concur with the plan. It appears to be a good, solid plan that everybody supports, so I want to thank everybody for pulling this thing together in a short period of time. We're going to be in pretty good shape for this upcoming operational period. The only other thing I would add is that I'll continue to be the Unified Incident Command spokesperson for the rest of this upcoming operational period, and then we'll hand that over to one of the other ICs tomorrow. That's all I've got. I'm going to go ahead and get ready for the briefing. All right. Thanks, Joe. Okay. I need the IAP components in to me by 1530 this afternoon to get ready for the 1800 operational briefing for tonight, and evidently, logistics is building that north of our command post, so you'll be reporting out there to do the operational briefing. We also have a 2000 planning meeting that will be back here to work on tomorrow's day operations. With that, please go ahead and turn your cell phones and pagers back on and get those IAP parts in to help me out. Thank you.\\n\")<|eot_id|><|start_header_id|>assistant<|end_header_id|>\n",
            "\n",
            "**Meeting Location:** The meeting took place at the Incident Command Post.\n",
            "\n",
            "**Meeting Date:** The date of the meeting is not explicitly mentioned in the transcript. However, based on the content and the mention of the operational plan for the next operational period, it can be inferred that the meeting occurred in the early stages of a response to a chemical spill incident.\n",
            "\n",
            "**Attendees:**\n",
            "\n",
            "1. Jeff (presumably the Incident Commander)\n",
            "2. Rich (Operations Section Chief)\n",
            "3. Joe (Unified Command member)\n",
            "4. John (safety officer)\n",
            "5. Dale (logistics)\n",
            "6. Jim (liaison)\n",
            "7. Carol (information officer)\n",
            "8. Bill (finance)\n",
            "9. Lucia (agency administrator)\n",
            "10. Joel (Unified Command member)\n",
            "11. Ben (EPA representative)\n",
            "12. John (state DEQ representative)\n",
            "13. Joe (Unified Command member and Jefferson County representative)\n",
            "\n",
            "**Summary of the Meeting:**\n",
            "\n",
            "The meeting was a planning meeting for the next operational period of a response to a chemical spill incident. The Operations Section Chief, Rich, presented the proposed plan, which included improving the dikes around the spill area, conducting a safety analysis, and sharing information with the team. The team discussed and supported the plan, with various members providing updates on logistics, liaison, information, finance, and safety. The meeting concluded with a discussion of the Incident Action Plan (IAP) components and the need for the team to provide their inputs by a specific deadline.\n",
            "\n",
            "**Key Discussion Points:**\n",
            "\n",
            "1. The proposed operational plan for the next operational period.\n",
            "2. The safety analysis and mitigation measures for the incident.\n",
            "3. The logistics and resource requirements for the response.\n",
            "4. The information sharing and communication plan.\n",
            "5. The finance and cost tracking plan.\n",
            "6. The safety buy-off and support for the plan.\n",
            "\n",
            "**Takeaways:**\n",
            "\n",
            "1. The team supported the proposed operational plan.\n",
            "2. The safety analysis and mitigation measures were discussed and agreed upon.\n",
            "3. The logistics and resource requirements were outlined.\n",
            "4. The information sharing and communication plan was established.\n",
            "5. The finance and cost tracking plan was initiated.\n",
            "\n",
            "**List of Action Items:**\n",
            "\n",
            "1. Provide IAP components by 1530 this afternoon.\n",
            "2. Attend the 2000 planning meeting to work on tomorrow's day operations.\n",
            "3. Report to the briefing area north of the Incident Command Post.\n",
            "4. Ensure that all team members have the necessary resources and support.\n",
            "5. Monitor the situation and provide updates as necessary.<|eot_id|>\n"
          ]
        }
      ]
    },
    {
      "cell_type": "code",
      "source": [
        "# Display Markdow version of the final script\n",
        "\n",
        "final_script = llama3_tokenizer.decode(outputs[0], skip_special_tokens=True)\n",
        "display(Markdown(final_script))"
      ],
      "metadata": {
        "colab": {
          "base_uri": "https://localhost:8080/",
          "height": 1000
        },
        "id": "jc2QZj5Qv1b8",
        "outputId": "6384133f-cf9f-4122-9d1c-2e2574e2732b"
      },
      "execution_count": 13,
      "outputs": [
        {
          "output_type": "display_data",
          "data": {
            "text/plain": [
              "<IPython.core.display.Markdown object>"
            ],
            "text/markdown": "system\n\nCutting Knowledge Date: December 2023\nToday Date: 26 Jul 2024\n\nI am an assistant that takes in an audio transcript and then provides summary, key discussion points, takeaways and list of action itemsuser\n\n('Here is a meeting audio transcript. Please provide the location, date and summary of the meeting with attendees, and list of action items accoridingly: ', \"The planning meeting provides the opportunity for the command and general staff, as well as agency officials and other key personnel, to hear the complete plan for the next operational period as proposed by the Operations Section Chief. By the time the meeting occurs, the IMT should have vetted the information so there would be few, if any changes needed during the meeting, and no one is surprised by the proposed plan. The goal of the planning meeting is really to get the final buy-off from the incident management team members and some of the stakeholders, and that's really what it's all about, is getting that final support, that final buy-off, where people can walk away and say, this is implementable, it is supportable, and it's going to do the trick. I'd like to welcome everybody to the planning meeting for tonight's operational plan. If I could have everybody kind of check their cell phones, pagers, radios, and if you could kind of keep your side conversations to yourself, certainly appreciate it. With that, let's get going, and we'll start with an update on the current situation with our Operations Section Chief, Rich. Thank you, Joe. The incident we're working on started early this morning when a tractor-trailer on Highway 265 was making the transition onto Highway 71. In the process of coming off the transition road, it went off the road, overturned, and spilled its load of diazonon. The trailer was loaded with 15 300-gallon totes of diazonon, which spilled. We also have a spill of about 200 gallons of diesel fuel from the truck. The spill, the chemicals started down through this drainage here, went through a culvert underneath the freeway, and continued on. It currently has contaminated a couple of the water ponds along the drainage there, pond number two, and we're checking into contamination right now in pond number three. Driver had moderate injuries, was transported to one of the local hospitals. For scene control right now, we have six roadblocks set up on 265 and 71. Our biggest concern right now is that the chemicals will continue downstream here in this drainage and have an impact on two domestic water systems downstream. We have advised those water companies that the potential is there, and they're prepared to shut down those intakes. Thank you. Okay, we do have the incident objectives posted right here. They are the ones that were developed during the unified command meeting. Just confirming that they are still valid. Still valid. Yes. Yep, still valid. All right, sounds great. Let's get started about what's going to happen tonight. I've got the weather. Looks like this is going to be the calm before the storm essentially starting tonight. Coming from the southwest, we've got a fairly good storm coming in, so it'll be increasing clouds, possibility of one to two inches of rain, 68 degrees tonight. Winds are going to be out of the southwest, about five to 15. Looking towards the morning and throughout the day, eventually it'll be a high of 86. Winds again are going to be pretty much the same as far as the five to 15 from the southwest. So with that, to set up the operational plan, I'll have Rich come up and talk about what he's going to do tomorrow. Rich. Thanks again, Jeff. All right, we're going to continue with the organization as it's presently set up. We have two geographic divisions. We have Division A, Division B, and then we have three functional groups that we're going to operate through this operational period. In Division A, we're going to improve the dikes around the spill area. The Operations Section Chief will go over tactics, work assignments, and resources for each branch, division, and group on the ICS 215 wall chart. Any questions about the night operational plan? Thank you. All right. Thanks a lot, Rich. Next with a safety analysis, John, our safety officer. I've done an incident safety analysis based on the tactics as presented by the Operations Section Chief. I've discussed our mitigation measures with him, and we think we have a good opportunity to pursue this plan. Our primary concern is that we are dealing with a moderately toxic organophosphate pesticide, biazanone. It is also a combustible liquid, so we need to make sure that everybody's in proper PPE for the activities that are being accomplished. In the event that we do have fire in the product, we need to make sure we use as little water as possible in suppression because the runoff is a greater concern than is the smoke. We're also going to have an issue with fatigue and dehydration with our folks working in PPE, so we need to make sure that those folks are properly hydrated. I've ordered three additional safety officers, assistant safety officers, one for Division Alpha, one for the decon group, and one for the treatment group. Any questions on the safety plan? Thank you. All right. Thanks, John. Next, let's do some information sharing. Looks like logistics. Dale? Thanks, Jeff. I have a few things I need to cover. Food and drinks are on order along with tents for the Responder Rehab Area. We'll get that set up as soon as possible when it comes in. So far, the Emergency Operations Center has been able to fill orders when placed. All fresh resources will be here for the operations briefing, and we're setting up a briefing area north side of the Incident Command Post in the A Building Conference Room. Does anybody have any questions for logistics? Next, Jim. Liaison? I've attempted to contact every agency that's on the scene. If you're aware of any new agencies that are here, please let me know so I can find out if they're going to have a representative on site. Thank you. Thanks, Jim. Next, information. Carol? The local MEC has decided to set up a joint information center, and they're almost set up and ready to go. There's a lot of media interest, so please be patient. We will be presenting the first press release to the IC for approval, and I will have a message written up to put in the IAP also. Thank you. All right. Thanks, Carol. How about Bill? Finance? I don't have anything new, but we'll have a time unit leader and a cost unit leader here shortly so we can start tracking the expenditures. I do see that we do have an agency rep from the Department of Transportation, so Steve. Thank you. We do have a number of traffic control safety devices in route and in staging. When we're advised that you want to open the interstate, we'll be able to partially deploy those for opening the road. Excellent. Thank you. Okay. We've heard the plan and shared our information, so can we as a team support the plan looking at logistics? Support plan. Liaison? Information? Yes. Finance? Bill? Yes. Okay. And, of course, we need to have safety buyoff? Support the plan. Excellent. Okay. It looks like that's a wrap then. I also see that we do have our agency administrators here, and I'd certainly like to give them an opportunity to say something if they have. So let's start with Lucia. Thanks, Jeff. I just wanted to add that the County Emergency Operations Center director has briefed the State Department of Emergency Management, so they're aware of our situation. Thank you. I appreciate that. Joel? No comments. Okay. Thank you. Okay. Looking for concurrence from our Unified Command. Start with Ben. Yes. From the EPA's perspective, everything's looking pretty good. Our agency does have a representative en route to serve as a group supervisor, and they will be here in time for the ops briefing. Thanks, Ben. John? Yeah. I agree. I think we're right on track. As far as the state DEQ, very pleased with all the efforts for our actions so far. All right. Thank you very much. Okay. From the Jefferson County standpoint, I certainly concur with the plan. It appears to be a good, solid plan that everybody supports, so I want to thank everybody for pulling this thing together in a short period of time. We're going to be in pretty good shape for this upcoming operational period. The only other thing I would add is that I'll continue to be the Unified Incident Command spokesperson for the rest of this upcoming operational period, and then we'll hand that over to one of the other ICs tomorrow. That's all I've got. I'm going to go ahead and get ready for the briefing. All right. Thanks, Joe. Okay. I need the IAP components in to me by 1530 this afternoon to get ready for the 1800 operational briefing for tonight, and evidently, logistics is building that north of our command post, so you'll be reporting out there to do the operational briefing. We also have a 2000 planning meeting that will be back here to work on tomorrow's day operations. With that, please go ahead and turn your cell phones and pagers back on and get those IAP parts in to help me out. Thank you.\\n\")assistant\n\n**Meeting Location:** The meeting took place at the Incident Command Post.\n\n**Meeting Date:** The date of the meeting is not explicitly mentioned in the transcript. However, based on the content and the mention of the operational plan for the next operational period, it can be inferred that the meeting occurred in the early stages of a response to a chemical spill incident.\n\n**Attendees:**\n\n1. Jeff (presumably the Incident Commander)\n2. Rich (Operations Section Chief)\n3. Joe (Unified Command member)\n4. John (safety officer)\n5. Dale (logistics)\n6. Jim (liaison)\n7. Carol (information officer)\n8. Bill (finance)\n9. Lucia (agency administrator)\n10. Joel (Unified Command member)\n11. Ben (EPA representative)\n12. John (state DEQ representative)\n13. Joe (Unified Command member and Jefferson County representative)\n\n**Summary of the Meeting:**\n\nThe meeting was a planning meeting for the next operational period of a response to a chemical spill incident. The Operations Section Chief, Rich, presented the proposed plan, which included improving the dikes around the spill area, conducting a safety analysis, and sharing information with the team. The team discussed and supported the plan, with various members providing updates on logistics, liaison, information, finance, and safety. The meeting concluded with a discussion of the Incident Action Plan (IAP) components and the need for the team to provide their inputs by a specific deadline.\n\n**Key Discussion Points:**\n\n1. The proposed operational plan for the next operational period.\n2. The safety analysis and mitigation measures for the incident.\n3. The logistics and resource requirements for the response.\n4. The information sharing and communication plan.\n5. The finance and cost tracking plan.\n6. The safety buy-off and support for the plan.\n\n**Takeaways:**\n\n1. The team supported the proposed operational plan.\n2. The safety analysis and mitigation measures were discussed and agreed upon.\n3. The logistics and resource requirements were outlined.\n4. The information sharing and communication plan was established.\n5. The finance and cost tracking plan was initiated.\n\n**List of Action Items:**\n\n1. Provide IAP components by 1530 this afternoon.\n2. Attend the 2000 planning meeting to work on tomorrow's day operations.\n3. Report to the briefing area north of the Incident Command Post.\n4. Ensure that all team members have the necessary resources and support.\n5. Monitor the situation and provide updates as necessary."
          },
          "metadata": {}
        }
      ]
    }
  ]
}